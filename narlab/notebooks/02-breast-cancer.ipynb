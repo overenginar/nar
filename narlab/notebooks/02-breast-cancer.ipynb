{
 "cells": [
  {
   "cell_type": "markdown",
   "id": "0aeedf21-b16e-4cb0-9aa5-ea04a170d27c",
   "metadata": {},
   "source": [
    "## Classification models using Breast Cancer Data\n",
    "1) Importing Libraries\n",
    "2) Importing Data\n",
    "3) ML Pipeline Experimentations\n",
    "    + Splitting Data and Label Encoding\n",
    "    + Baseline model with DummyClassifier\n",
    "    + Logistic Regression\n",
    "    + Decision Trees\n",
    "    + GBM\n",
    "    + RF\n",
    "    + SVC\n",
    "    + LinearSVC\n",
    "    + Comparing models\n",
    "    + Randomized Search\n",
    "4) E2E ML Pipeline\n",
    "5) Model Inference and Evaluation"
   ]
  },
  {
   "cell_type": "code",
   "execution_count": null,
   "id": "faf32388-6188-4a24-917c-c0b608fbe3ac",
   "metadata": {},
   "outputs": [],
   "source": []
  },
  {
   "cell_type": "markdown",
   "id": "a17eee80-5585-4d4c-a190-e43dc53bf945",
   "metadata": {},
   "source": [
    "### Importing Libraries"
   ]
  },
  {
   "cell_type": "code",
   "execution_count": 175,
   "id": "b21364a6-1128-43b2-8677-ada2e42792b9",
   "metadata": {},
   "outputs": [],
   "source": [
    "import pandas as pd\n",
    "import numpy as np\n",
    "import shap\n",
    "import joblib\n",
    "from matplotlib import pyplot\n",
    "import seaborn as sns\n",
    "from scipy.stats import uniform, randint\n",
    "from sklearn.datasets import load_breast_cancer\n",
    "from sklearn.preprocessing import LabelEncoder\n",
    "from sklearn.preprocessing import Normalizer\n",
    "from sklearn.pipeline import make_pipeline\n",
    "from sklearn.pipeline import make_union\n",
    "from sklearn.dummy import DummyClassifier\n",
    "from sklearn.linear_model import LogisticRegression\n",
    "from sklearn.tree import DecisionTreeClassifier\n",
    "from sklearn.ensemble import GradientBoostingClassifier\n",
    "from sklearn.ensemble import RandomForestClassifier\n",
    "from sklearn.svm import LinearSVC\n",
    "from sklearn.svm import SVC\n",
    "from sklearn.model_selection import cross_val_score\n",
    "from sklearn.model_selection import StratifiedKFold\n",
    "from sklearn.model_selection import RandomizedSearchCV\n",
    "from sklearn.model_selection import train_test_split\n",
    "from sklearn.metrics import classification_report\n",
    "from sklearn.metrics import confusion_matrix\n",
    "from sklearn.metrics import accuracy_score\n",
    "from sklearn.metrics import precision_score\n",
    "from sklearn.metrics import recall_score\n",
    "from sklearn.metrics import f1_score"
   ]
  },
  {
   "cell_type": "code",
   "execution_count": null,
   "id": "4cab1c42-d0fd-4978-a7fe-e9d470aa34e0",
   "metadata": {},
   "outputs": [],
   "source": []
  },
  {
   "cell_type": "markdown",
   "id": "cc316878-6111-4ff3-875e-3a5adc5f5d3d",
   "metadata": {},
   "source": [
    "### Importing Data"
   ]
  },
  {
   "cell_type": "code",
   "execution_count": 95,
   "id": "4a76024d-c101-4bb2-9214-c1366e9708ea",
   "metadata": {},
   "outputs": [],
   "source": [
    "cancer = load_breast_cancer()\n",
    "X = pd.DataFrame(cancer.data, columns=cancer.feature_names)\n",
    "y = cancer.target"
   ]
  },
  {
   "cell_type": "code",
   "execution_count": 96,
   "id": "e53b5c7f-3f92-4062-b083-6248d294ee34",
   "metadata": {},
   "outputs": [
    {
     "name": "stdout",
     "output_type": "stream",
     "text": [
      "<class 'pandas.core.frame.DataFrame'>\n",
      "RangeIndex: 569 entries, 0 to 568\n",
      "Data columns (total 30 columns):\n",
      " #   Column                   Non-Null Count  Dtype  \n",
      "---  ------                   --------------  -----  \n",
      " 0   mean radius              569 non-null    float64\n",
      " 1   mean texture             569 non-null    float64\n",
      " 2   mean perimeter           569 non-null    float64\n",
      " 3   mean area                569 non-null    float64\n",
      " 4   mean smoothness          569 non-null    float64\n",
      " 5   mean compactness         569 non-null    float64\n",
      " 6   mean concavity           569 non-null    float64\n",
      " 7   mean concave points      569 non-null    float64\n",
      " 8   mean symmetry            569 non-null    float64\n",
      " 9   mean fractal dimension   569 non-null    float64\n",
      " 10  radius error             569 non-null    float64\n",
      " 11  texture error            569 non-null    float64\n",
      " 12  perimeter error          569 non-null    float64\n",
      " 13  area error               569 non-null    float64\n",
      " 14  smoothness error         569 non-null    float64\n",
      " 15  compactness error        569 non-null    float64\n",
      " 16  concavity error          569 non-null    float64\n",
      " 17  concave points error     569 non-null    float64\n",
      " 18  symmetry error           569 non-null    float64\n",
      " 19  fractal dimension error  569 non-null    float64\n",
      " 20  worst radius             569 non-null    float64\n",
      " 21  worst texture            569 non-null    float64\n",
      " 22  worst perimeter          569 non-null    float64\n",
      " 23  worst area               569 non-null    float64\n",
      " 24  worst smoothness         569 non-null    float64\n",
      " 25  worst compactness        569 non-null    float64\n",
      " 26  worst concavity          569 non-null    float64\n",
      " 27  worst concave points     569 non-null    float64\n",
      " 28  worst symmetry           569 non-null    float64\n",
      " 29  worst fractal dimension  569 non-null    float64\n",
      "dtypes: float64(30)\n",
      "memory usage: 133.5 KB\n"
     ]
    }
   ],
   "source": [
    "X.info()"
   ]
  },
  {
   "cell_type": "code",
   "execution_count": null,
   "id": "c33755ef-7d21-4c34-a784-98feaed9f106",
   "metadata": {},
   "outputs": [],
   "source": []
  },
  {
   "cell_type": "markdown",
   "id": "be7f583d-0f2e-4a99-9558-23c4ad453529",
   "metadata": {},
   "source": [
    "### ML Pipeline Experimentations"
   ]
  },
  {
   "cell_type": "markdown",
   "id": "319952c0-00d7-4516-90fb-f8e66a2dc1ab",
   "metadata": {},
   "source": [
    "#### Splitting Data and Label Encoding"
   ]
  },
  {
   "cell_type": "code",
   "execution_count": 97,
   "id": "de5df247-852d-4100-b46d-bfe5a27cafb4",
   "metadata": {},
   "outputs": [],
   "source": [
    "X_train, X_test, y_train, y_test = train_test_split(X, y, test_size=0.2, random_state=42)"
   ]
  },
  {
   "cell_type": "code",
   "execution_count": 135,
   "id": "23e8bc07-33c8-49b4-803f-aef85984a58c",
   "metadata": {},
   "outputs": [],
   "source": [
    "le = LabelEncoder()\n",
    "y_train_tr = le.fit_transform(y_train)\n",
    "y_test_tr = le.transform(y_test)"
   ]
  },
  {
   "cell_type": "markdown",
   "id": "4bb39a45-49a8-4c75-8c53-7fa65caf2fff",
   "metadata": {},
   "source": [
    "#### Baseline model with DummyClassifier"
   ]
  },
  {
   "cell_type": "code",
   "execution_count": 99,
   "id": "1b433d2f-8de9-43a4-9f80-79bc8a982339",
   "metadata": {},
   "outputs": [
    {
     "data": {
      "text/plain": [
       "array([0.63736264, 0.62637363, 0.62637363, 0.62637363, 0.62637363])"
      ]
     },
     "execution_count": 99,
     "metadata": {},
     "output_type": "execute_result"
    }
   ],
   "source": [
    "transformer = make_union(Normalizer())\n",
    "base_pl = make_pipeline(transformer, DummyClassifier(strategy='most_frequent'))\n",
    "cross_val_score(base_pl, X_train, y_train_tr, cv=5)"
   ]
  },
  {
   "cell_type": "code",
   "execution_count": 100,
   "id": "1e09c68b-0e0c-4956-b8ae-3bf6fd67b0dd",
   "metadata": {},
   "outputs": [
    {
     "name": "stdout",
     "output_type": "stream",
     "text": [
      "Train score: 0.6285714285714286\n",
      "Test score: 0.6228070175438597\n"
     ]
    }
   ],
   "source": [
    "base_pl.fit(X_train, y_train)\n",
    "print(f'Train score: {base_pl.score(X_train, y_train_tr)}')\n",
    "print(f'Test score: {base_pl.score(X_test, y_test_tr)}')"
   ]
  },
  {
   "cell_type": "markdown",
   "id": "c038fd77-74f5-4a09-a884-651765650d74",
   "metadata": {},
   "source": [
    "#### Logistic Regression"
   ]
  },
  {
   "cell_type": "code",
   "execution_count": 101,
   "id": "34d881bb-f6c1-433f-a727-a273b68f7674",
   "metadata": {},
   "outputs": [
    {
     "data": {
      "text/plain": [
       "array([0.79120879, 0.7032967 , 0.69230769, 0.72527473, 0.72527473])"
      ]
     },
     "execution_count": 101,
     "metadata": {},
     "output_type": "execute_result"
    }
   ],
   "source": [
    "transformer = make_union(Normalizer())\n",
    "logreg_pl = make_pipeline(transformer, LogisticRegression())\n",
    "cross_val_score(logreg_pl, X_train, y_train_tr, cv=5)"
   ]
  },
  {
   "cell_type": "code",
   "execution_count": 102,
   "id": "60c40a85-ce7e-4fa5-94b4-4577e41cc812",
   "metadata": {},
   "outputs": [
    {
     "name": "stdout",
     "output_type": "stream",
     "text": [
      "Train score: 0.7714285714285715\n",
      "Test score: 0.7807017543859649\n"
     ]
    }
   ],
   "source": [
    "logreg_pl.fit(X_train, y_train)\n",
    "print(f'Train score: {logreg_pl.score(X_train, y_train_tr)}')\n",
    "print(f'Test score: {logreg_pl.score(X_test, y_test_tr)}')"
   ]
  },
  {
   "cell_type": "markdown",
   "id": "db652a29-b474-4086-b8f4-25d217bd2321",
   "metadata": {},
   "source": [
    "#### Decision Trees"
   ]
  },
  {
   "cell_type": "code",
   "execution_count": 103,
   "id": "67a3d2ab-5627-40b9-999c-5e5901ae5c86",
   "metadata": {},
   "outputs": [
    {
     "data": {
      "text/plain": [
       "array([0.92307692, 0.93406593, 0.9010989 , 0.89010989, 0.93406593])"
      ]
     },
     "execution_count": 103,
     "metadata": {},
     "output_type": "execute_result"
    }
   ],
   "source": [
    "transformer = make_union(Normalizer())\n",
    "dt_pl = make_pipeline(transformer, DecisionTreeClassifier())\n",
    "cross_val_score(dt_pl, X_train, y_train_tr, cv=5)"
   ]
  },
  {
   "cell_type": "code",
   "execution_count": 104,
   "id": "54ec047a-6e03-4a8f-9691-cfccfed4e552",
   "metadata": {},
   "outputs": [
    {
     "name": "stdout",
     "output_type": "stream",
     "text": [
      "Train score: 1.0\n",
      "Test score: 0.9122807017543859\n"
     ]
    }
   ],
   "source": [
    "dt_pl.fit(X_train, y_train)\n",
    "print(f'Train score: {dt_pl.score(X_train, y_train_tr)}')\n",
    "print(f'Test score: {dt_pl.score(X_test, y_test_tr)}')"
   ]
  },
  {
   "cell_type": "markdown",
   "id": "b970fdaa-e985-4701-b54a-fd54659bc43a",
   "metadata": {},
   "source": [
    "#### GBM"
   ]
  },
  {
   "cell_type": "code",
   "execution_count": 105,
   "id": "534c7694-6a93-47cd-8959-b27192809f7a",
   "metadata": {},
   "outputs": [
    {
     "data": {
      "text/plain": [
       "array([0.96703297, 0.89010989, 0.96703297, 0.93406593, 0.93406593])"
      ]
     },
     "execution_count": 105,
     "metadata": {},
     "output_type": "execute_result"
    }
   ],
   "source": [
    "transformer = make_union(Normalizer())\n",
    "gbm_pl = make_pipeline(transformer, GradientBoostingClassifier())\n",
    "cross_val_score(gbm_pl, X_train, y_train_tr, cv=5)"
   ]
  },
  {
   "cell_type": "code",
   "execution_count": 107,
   "id": "7aa66777-b19e-42d4-95c4-1d454d6bd00a",
   "metadata": {},
   "outputs": [
    {
     "name": "stdout",
     "output_type": "stream",
     "text": [
      "Train score: 1.0\n",
      "Test score: 0.9912280701754386\n"
     ]
    }
   ],
   "source": [
    "gbm_pl.fit(X_train, y_train)\n",
    "print(f'Train score: {gbm_pl.score(X_train, y_train_tr)}')\n",
    "print(f'Test score: {gbm_pl.score(X_test, y_test_tr)}')"
   ]
  },
  {
   "cell_type": "markdown",
   "id": "630c8f71-5a5f-432e-872d-cda412f0d498",
   "metadata": {},
   "source": [
    "#### RF"
   ]
  },
  {
   "cell_type": "code",
   "execution_count": 108,
   "id": "a52a3032-f19a-4816-ac36-92b366bb6a99",
   "metadata": {},
   "outputs": [
    {
     "data": {
      "text/plain": [
       "array([0.98901099, 0.91208791, 0.97802198, 0.95604396, 0.93406593])"
      ]
     },
     "execution_count": 108,
     "metadata": {},
     "output_type": "execute_result"
    }
   ],
   "source": [
    "transformer = make_union(Normalizer())\n",
    "rf_pl = make_pipeline(transformer, RandomForestClassifier())\n",
    "cross_val_score(rf_pl, X_train, y_train_tr, cv=5)"
   ]
  },
  {
   "cell_type": "code",
   "execution_count": 109,
   "id": "6c9158d8-5f25-44d0-acdf-cb4af3bcc62f",
   "metadata": {},
   "outputs": [
    {
     "name": "stdout",
     "output_type": "stream",
     "text": [
      "Train score: 1.0\n",
      "Test score: 0.9824561403508771\n"
     ]
    }
   ],
   "source": [
    "rf_pl.fit(X_train, y_train)\n",
    "print(f'Train score: {rf_pl.score(X_train, y_train_tr)}')\n",
    "print(f'Test score: {rf_pl.score(X_test, y_test_tr)}')"
   ]
  },
  {
   "cell_type": "markdown",
   "id": "bb980853-b87d-417e-8086-af70cff9edf1",
   "metadata": {},
   "source": [
    "#### SVC"
   ]
  },
  {
   "cell_type": "code",
   "execution_count": 110,
   "id": "165e878c-a3d8-4db2-a6d3-0acb63d16766",
   "metadata": {},
   "outputs": [
    {
     "data": {
      "text/plain": [
       "array([0.92307692, 0.84615385, 0.85714286, 0.83516484, 0.82417582])"
      ]
     },
     "execution_count": 110,
     "metadata": {},
     "output_type": "execute_result"
    }
   ],
   "source": [
    "transformer = make_union(Normalizer())\n",
    "svc_pl = make_pipeline(transformer, SVC())\n",
    "cross_val_score(svc_pl, X_train, y_train_tr, cv=5)"
   ]
  },
  {
   "cell_type": "code",
   "execution_count": 111,
   "id": "082214bc-7512-4802-a22f-6c169b8c028a",
   "metadata": {},
   "outputs": [
    {
     "name": "stdout",
     "output_type": "stream",
     "text": [
      "Train score: 0.8791208791208791\n",
      "Test score: 0.9122807017543859\n"
     ]
    }
   ],
   "source": [
    "svc_pl.fit(X_train, y_train)\n",
    "print(f'Train score: {svc_pl.score(X_train, y_train_tr)}')\n",
    "print(f'Test score: {svc_pl.score(X_test, y_test_tr)}')"
   ]
  },
  {
   "cell_type": "markdown",
   "id": "7b094bfa-a8c0-4115-844b-fe69d42f9714",
   "metadata": {},
   "source": [
    "#### LinearSVC"
   ]
  },
  {
   "cell_type": "code",
   "execution_count": 112,
   "id": "302eaa81-a510-4fc6-b85e-70c105d24649",
   "metadata": {},
   "outputs": [
    {
     "data": {
      "text/plain": [
       "array([0.94505495, 0.87912088, 0.9010989 , 0.86813187, 0.89010989])"
      ]
     },
     "execution_count": 112,
     "metadata": {},
     "output_type": "execute_result"
    }
   ],
   "source": [
    "transformer = make_union(Normalizer())\n",
    "lsvc_pl = make_pipeline(transformer, LinearSVC())\n",
    "cross_val_score(lsvc_pl, X_train, y_train_tr, cv=5)"
   ]
  },
  {
   "cell_type": "code",
   "execution_count": 113,
   "id": "7fdd8fce-0801-4530-b45b-0c2353f6319b",
   "metadata": {},
   "outputs": [
    {
     "name": "stdout",
     "output_type": "stream",
     "text": [
      "Train score: 0.8989010989010989\n",
      "Test score: 0.9298245614035088\n"
     ]
    }
   ],
   "source": [
    "lsvc_pl.fit(X_train, y_train)\n",
    "print(f'Train score: {lsvc_pl.score(X_train, y_train_tr)}')\n",
    "print(f'Test score: {lsvc_pl.score(X_test, y_test_tr)}')"
   ]
  },
  {
   "cell_type": "markdown",
   "id": "c385ef0b-bafe-43de-8c46-71c5c487d13c",
   "metadata": {},
   "source": [
    "#### Comparing models"
   ]
  },
  {
   "cell_type": "code",
   "execution_count": 114,
   "id": "a9809dce-a2b3-4fa8-9d1e-366771dba172",
   "metadata": {},
   "outputs": [],
   "source": [
    "transformer = gbm_pl[0]\n",
    "model = gbm_pl[-1]\n",
    "feature_names = transformer.get_feature_names_out()\n",
    "model_params = model.get_params()"
   ]
  },
  {
   "cell_type": "code",
   "execution_count": 115,
   "id": "d7bfbe11-f72f-4900-9d41-3ac5afd0d6d8",
   "metadata": {},
   "outputs": [
    {
     "data": {
      "text/plain": [
       "{'ccp_alpha': 0.0,\n",
       " 'criterion': 'friedman_mse',\n",
       " 'init': None,\n",
       " 'learning_rate': 0.1,\n",
       " 'loss': 'log_loss',\n",
       " 'max_depth': 3,\n",
       " 'max_features': None,\n",
       " 'max_leaf_nodes': None,\n",
       " 'min_impurity_decrease': 0.0,\n",
       " 'min_samples_leaf': 1,\n",
       " 'min_samples_split': 2,\n",
       " 'min_weight_fraction_leaf': 0.0,\n",
       " 'n_estimators': 100,\n",
       " 'n_iter_no_change': None,\n",
       " 'random_state': None,\n",
       " 'subsample': 1.0,\n",
       " 'tol': 0.0001,\n",
       " 'validation_fraction': 0.1,\n",
       " 'verbose': 0,\n",
       " 'warm_start': False}"
      ]
     },
     "execution_count": 115,
     "metadata": {},
     "output_type": "execute_result"
    }
   ],
   "source": [
    "model_params"
   ]
  },
  {
   "cell_type": "code",
   "execution_count": 117,
   "id": "1e79f4c1-0bc8-48b6-8a12-8db3115fdfd1",
   "metadata": {},
   "outputs": [
    {
     "data": {
      "text/html": [
       "<div>\n",
       "<style scoped>\n",
       "    .dataframe tbody tr th:only-of-type {\n",
       "        vertical-align: middle;\n",
       "    }\n",
       "\n",
       "    .dataframe tbody tr th {\n",
       "        vertical-align: top;\n",
       "    }\n",
       "\n",
       "    .dataframe thead th {\n",
       "        text-align: right;\n",
       "    }\n",
       "</style>\n",
       "<table border=\"1\" class=\"dataframe\">\n",
       "  <thead>\n",
       "    <tr style=\"text-align: right;\">\n",
       "      <th></th>\n",
       "      <th>feature</th>\n",
       "      <th>importance</th>\n",
       "    </tr>\n",
       "  </thead>\n",
       "  <tbody>\n",
       "    <tr>\n",
       "      <th>0</th>\n",
       "      <td>normalizer__mean radius</td>\n",
       "      <td>0.730222</td>\n",
       "    </tr>\n",
       "    <tr>\n",
       "      <th>3</th>\n",
       "      <td>normalizer__mean area</td>\n",
       "      <td>0.045899</td>\n",
       "    </tr>\n",
       "    <tr>\n",
       "      <th>27</th>\n",
       "      <td>normalizer__worst concave points</td>\n",
       "      <td>0.039042</td>\n",
       "    </tr>\n",
       "    <tr>\n",
       "      <th>23</th>\n",
       "      <td>normalizer__worst area</td>\n",
       "      <td>0.038529</td>\n",
       "    </tr>\n",
       "    <tr>\n",
       "      <th>7</th>\n",
       "      <td>normalizer__mean concave points</td>\n",
       "      <td>0.023605</td>\n",
       "    </tr>\n",
       "    <tr>\n",
       "      <th>20</th>\n",
       "      <td>normalizer__worst radius</td>\n",
       "      <td>0.019906</td>\n",
       "    </tr>\n",
       "    <tr>\n",
       "      <th>1</th>\n",
       "      <td>normalizer__mean texture</td>\n",
       "      <td>0.015896</td>\n",
       "    </tr>\n",
       "    <tr>\n",
       "      <th>6</th>\n",
       "      <td>normalizer__mean concavity</td>\n",
       "      <td>0.012546</td>\n",
       "    </tr>\n",
       "    <tr>\n",
       "      <th>26</th>\n",
       "      <td>normalizer__worst concavity</td>\n",
       "      <td>0.012121</td>\n",
       "    </tr>\n",
       "    <tr>\n",
       "      <th>2</th>\n",
       "      <td>normalizer__mean perimeter</td>\n",
       "      <td>0.009046</td>\n",
       "    </tr>\n",
       "    <tr>\n",
       "      <th>22</th>\n",
       "      <td>normalizer__worst perimeter</td>\n",
       "      <td>0.008027</td>\n",
       "    </tr>\n",
       "    <tr>\n",
       "      <th>9</th>\n",
       "      <td>normalizer__mean fractal dimension</td>\n",
       "      <td>0.007654</td>\n",
       "    </tr>\n",
       "    <tr>\n",
       "      <th>11</th>\n",
       "      <td>normalizer__texture error</td>\n",
       "      <td>0.006529</td>\n",
       "    </tr>\n",
       "    <tr>\n",
       "      <th>25</th>\n",
       "      <td>normalizer__worst compactness</td>\n",
       "      <td>0.006076</td>\n",
       "    </tr>\n",
       "    <tr>\n",
       "      <th>14</th>\n",
       "      <td>normalizer__smoothness error</td>\n",
       "      <td>0.005348</td>\n",
       "    </tr>\n",
       "    <tr>\n",
       "      <th>21</th>\n",
       "      <td>normalizer__worst texture</td>\n",
       "      <td>0.004775</td>\n",
       "    </tr>\n",
       "    <tr>\n",
       "      <th>13</th>\n",
       "      <td>normalizer__area error</td>\n",
       "      <td>0.003248</td>\n",
       "    </tr>\n",
       "    <tr>\n",
       "      <th>28</th>\n",
       "      <td>normalizer__worst symmetry</td>\n",
       "      <td>0.002229</td>\n",
       "    </tr>\n",
       "    <tr>\n",
       "      <th>18</th>\n",
       "      <td>normalizer__symmetry error</td>\n",
       "      <td>0.002082</td>\n",
       "    </tr>\n",
       "    <tr>\n",
       "      <th>16</th>\n",
       "      <td>normalizer__concavity error</td>\n",
       "      <td>0.001952</td>\n",
       "    </tr>\n",
       "    <tr>\n",
       "      <th>15</th>\n",
       "      <td>normalizer__compactness error</td>\n",
       "      <td>0.001756</td>\n",
       "    </tr>\n",
       "    <tr>\n",
       "      <th>17</th>\n",
       "      <td>normalizer__concave points error</td>\n",
       "      <td>0.001181</td>\n",
       "    </tr>\n",
       "    <tr>\n",
       "      <th>10</th>\n",
       "      <td>normalizer__radius error</td>\n",
       "      <td>0.000874</td>\n",
       "    </tr>\n",
       "    <tr>\n",
       "      <th>12</th>\n",
       "      <td>normalizer__perimeter error</td>\n",
       "      <td>0.000497</td>\n",
       "    </tr>\n",
       "    <tr>\n",
       "      <th>29</th>\n",
       "      <td>normalizer__worst fractal dimension</td>\n",
       "      <td>0.000308</td>\n",
       "    </tr>\n",
       "    <tr>\n",
       "      <th>19</th>\n",
       "      <td>normalizer__fractal dimension error</td>\n",
       "      <td>0.000295</td>\n",
       "    </tr>\n",
       "    <tr>\n",
       "      <th>24</th>\n",
       "      <td>normalizer__worst smoothness</td>\n",
       "      <td>0.000286</td>\n",
       "    </tr>\n",
       "    <tr>\n",
       "      <th>8</th>\n",
       "      <td>normalizer__mean symmetry</td>\n",
       "      <td>0.000042</td>\n",
       "    </tr>\n",
       "    <tr>\n",
       "      <th>4</th>\n",
       "      <td>normalizer__mean smoothness</td>\n",
       "      <td>0.000017</td>\n",
       "    </tr>\n",
       "    <tr>\n",
       "      <th>5</th>\n",
       "      <td>normalizer__mean compactness</td>\n",
       "      <td>0.000015</td>\n",
       "    </tr>\n",
       "  </tbody>\n",
       "</table>\n",
       "</div>"
      ],
      "text/plain": [
       "                                feature  importance\n",
       "0               normalizer__mean radius    0.730222\n",
       "3                 normalizer__mean area    0.045899\n",
       "27     normalizer__worst concave points    0.039042\n",
       "23               normalizer__worst area    0.038529\n",
       "7       normalizer__mean concave points    0.023605\n",
       "20             normalizer__worst radius    0.019906\n",
       "1              normalizer__mean texture    0.015896\n",
       "6            normalizer__mean concavity    0.012546\n",
       "26          normalizer__worst concavity    0.012121\n",
       "2            normalizer__mean perimeter    0.009046\n",
       "22          normalizer__worst perimeter    0.008027\n",
       "9    normalizer__mean fractal dimension    0.007654\n",
       "11            normalizer__texture error    0.006529\n",
       "25        normalizer__worst compactness    0.006076\n",
       "14         normalizer__smoothness error    0.005348\n",
       "21            normalizer__worst texture    0.004775\n",
       "13               normalizer__area error    0.003248\n",
       "28           normalizer__worst symmetry    0.002229\n",
       "18           normalizer__symmetry error    0.002082\n",
       "16          normalizer__concavity error    0.001952\n",
       "15        normalizer__compactness error    0.001756\n",
       "17     normalizer__concave points error    0.001181\n",
       "10             normalizer__radius error    0.000874\n",
       "12          normalizer__perimeter error    0.000497\n",
       "29  normalizer__worst fractal dimension    0.000308\n",
       "19  normalizer__fractal dimension error    0.000295\n",
       "24         normalizer__worst smoothness    0.000286\n",
       "8             normalizer__mean symmetry    0.000042\n",
       "4           normalizer__mean smoothness    0.000017\n",
       "5          normalizer__mean compactness    0.000015"
      ]
     },
     "execution_count": 117,
     "metadata": {},
     "output_type": "execute_result"
    }
   ],
   "source": [
    "(\n",
    "    pd.DataFrame(zip(feature_names, model.feature_importances_), columns=['feature', 'importance'])\n",
    "    .sort_values('importance', ascending=False)\n",
    ")"
   ]
  },
  {
   "cell_type": "code",
   "execution_count": null,
   "id": "0fae71bb-bf1c-44da-a612-9f67fd12cde5",
   "metadata": {},
   "outputs": [],
   "source": []
  },
  {
   "cell_type": "code",
   "execution_count": 118,
   "id": "46c585e1-c25a-4b25-8ab4-9a0b67c5209d",
   "metadata": {},
   "outputs": [],
   "source": [
    "transformer = rf_pl[0]\n",
    "model = rf_pl[-1]\n",
    "feature_names = transformer.get_feature_names_out()\n",
    "model_params = model.get_params()"
   ]
  },
  {
   "cell_type": "code",
   "execution_count": 120,
   "id": "5aa82aa8-d0c7-4c7b-8c10-89d22f07c9d7",
   "metadata": {},
   "outputs": [
    {
     "data": {
      "text/html": [
       "<div>\n",
       "<style scoped>\n",
       "    .dataframe tbody tr th:only-of-type {\n",
       "        vertical-align: middle;\n",
       "    }\n",
       "\n",
       "    .dataframe tbody tr th {\n",
       "        vertical-align: top;\n",
       "    }\n",
       "\n",
       "    .dataframe thead th {\n",
       "        text-align: right;\n",
       "    }\n",
       "</style>\n",
       "<table border=\"1\" class=\"dataframe\">\n",
       "  <thead>\n",
       "    <tr style=\"text-align: right;\">\n",
       "      <th></th>\n",
       "      <th>feature</th>\n",
       "      <th>importance</th>\n",
       "    </tr>\n",
       "  </thead>\n",
       "  <tbody>\n",
       "    <tr>\n",
       "      <th>0</th>\n",
       "      <td>normalizer__mean radius</td>\n",
       "      <td>0.197191</td>\n",
       "    </tr>\n",
       "    <tr>\n",
       "      <th>2</th>\n",
       "      <td>normalizer__mean perimeter</td>\n",
       "      <td>0.140959</td>\n",
       "    </tr>\n",
       "    <tr>\n",
       "      <th>22</th>\n",
       "      <td>normalizer__worst perimeter</td>\n",
       "      <td>0.093358</td>\n",
       "    </tr>\n",
       "    <tr>\n",
       "      <th>23</th>\n",
       "      <td>normalizer__worst area</td>\n",
       "      <td>0.086753</td>\n",
       "    </tr>\n",
       "    <tr>\n",
       "      <th>20</th>\n",
       "      <td>normalizer__worst radius</td>\n",
       "      <td>0.068899</td>\n",
       "    </tr>\n",
       "    <tr>\n",
       "      <th>9</th>\n",
       "      <td>normalizer__mean fractal dimension</td>\n",
       "      <td>0.044963</td>\n",
       "    </tr>\n",
       "    <tr>\n",
       "      <th>3</th>\n",
       "      <td>normalizer__mean area</td>\n",
       "      <td>0.041591</td>\n",
       "    </tr>\n",
       "    <tr>\n",
       "      <th>24</th>\n",
       "      <td>normalizer__worst smoothness</td>\n",
       "      <td>0.030441</td>\n",
       "    </tr>\n",
       "    <tr>\n",
       "      <th>7</th>\n",
       "      <td>normalizer__mean concave points</td>\n",
       "      <td>0.027553</td>\n",
       "    </tr>\n",
       "    <tr>\n",
       "      <th>8</th>\n",
       "      <td>normalizer__mean symmetry</td>\n",
       "      <td>0.026831</td>\n",
       "    </tr>\n",
       "    <tr>\n",
       "      <th>29</th>\n",
       "      <td>normalizer__worst fractal dimension</td>\n",
       "      <td>0.026624</td>\n",
       "    </tr>\n",
       "    <tr>\n",
       "      <th>28</th>\n",
       "      <td>normalizer__worst symmetry</td>\n",
       "      <td>0.023224</td>\n",
       "    </tr>\n",
       "    <tr>\n",
       "      <th>18</th>\n",
       "      <td>normalizer__symmetry error</td>\n",
       "      <td>0.019189</td>\n",
       "    </tr>\n",
       "    <tr>\n",
       "      <th>4</th>\n",
       "      <td>normalizer__mean smoothness</td>\n",
       "      <td>0.016755</td>\n",
       "    </tr>\n",
       "    <tr>\n",
       "      <th>26</th>\n",
       "      <td>normalizer__worst concavity</td>\n",
       "      <td>0.016147</td>\n",
       "    </tr>\n",
       "    <tr>\n",
       "      <th>6</th>\n",
       "      <td>normalizer__mean concavity</td>\n",
       "      <td>0.015145</td>\n",
       "    </tr>\n",
       "    <tr>\n",
       "      <th>27</th>\n",
       "      <td>normalizer__worst concave points</td>\n",
       "      <td>0.014572</td>\n",
       "    </tr>\n",
       "    <tr>\n",
       "      <th>25</th>\n",
       "      <td>normalizer__worst compactness</td>\n",
       "      <td>0.014308</td>\n",
       "    </tr>\n",
       "    <tr>\n",
       "      <th>21</th>\n",
       "      <td>normalizer__worst texture</td>\n",
       "      <td>0.014084</td>\n",
       "    </tr>\n",
       "    <tr>\n",
       "      <th>1</th>\n",
       "      <td>normalizer__mean texture</td>\n",
       "      <td>0.012071</td>\n",
       "    </tr>\n",
       "    <tr>\n",
       "      <th>14</th>\n",
       "      <td>normalizer__smoothness error</td>\n",
       "      <td>0.010123</td>\n",
       "    </tr>\n",
       "    <tr>\n",
       "      <th>17</th>\n",
       "      <td>normalizer__concave points error</td>\n",
       "      <td>0.009557</td>\n",
       "    </tr>\n",
       "    <tr>\n",
       "      <th>16</th>\n",
       "      <td>normalizer__concavity error</td>\n",
       "      <td>0.008459</td>\n",
       "    </tr>\n",
       "    <tr>\n",
       "      <th>5</th>\n",
       "      <td>normalizer__mean compactness</td>\n",
       "      <td>0.006687</td>\n",
       "    </tr>\n",
       "    <tr>\n",
       "      <th>11</th>\n",
       "      <td>normalizer__texture error</td>\n",
       "      <td>0.006649</td>\n",
       "    </tr>\n",
       "    <tr>\n",
       "      <th>13</th>\n",
       "      <td>normalizer__area error</td>\n",
       "      <td>0.006209</td>\n",
       "    </tr>\n",
       "    <tr>\n",
       "      <th>12</th>\n",
       "      <td>normalizer__perimeter error</td>\n",
       "      <td>0.006185</td>\n",
       "    </tr>\n",
       "    <tr>\n",
       "      <th>15</th>\n",
       "      <td>normalizer__compactness error</td>\n",
       "      <td>0.006022</td>\n",
       "    </tr>\n",
       "    <tr>\n",
       "      <th>19</th>\n",
       "      <td>normalizer__fractal dimension error</td>\n",
       "      <td>0.005217</td>\n",
       "    </tr>\n",
       "    <tr>\n",
       "      <th>10</th>\n",
       "      <td>normalizer__radius error</td>\n",
       "      <td>0.004235</td>\n",
       "    </tr>\n",
       "  </tbody>\n",
       "</table>\n",
       "</div>"
      ],
      "text/plain": [
       "                                feature  importance\n",
       "0               normalizer__mean radius    0.197191\n",
       "2            normalizer__mean perimeter    0.140959\n",
       "22          normalizer__worst perimeter    0.093358\n",
       "23               normalizer__worst area    0.086753\n",
       "20             normalizer__worst radius    0.068899\n",
       "9    normalizer__mean fractal dimension    0.044963\n",
       "3                 normalizer__mean area    0.041591\n",
       "24         normalizer__worst smoothness    0.030441\n",
       "7       normalizer__mean concave points    0.027553\n",
       "8             normalizer__mean symmetry    0.026831\n",
       "29  normalizer__worst fractal dimension    0.026624\n",
       "28           normalizer__worst symmetry    0.023224\n",
       "18           normalizer__symmetry error    0.019189\n",
       "4           normalizer__mean smoothness    0.016755\n",
       "26          normalizer__worst concavity    0.016147\n",
       "6            normalizer__mean concavity    0.015145\n",
       "27     normalizer__worst concave points    0.014572\n",
       "25        normalizer__worst compactness    0.014308\n",
       "21            normalizer__worst texture    0.014084\n",
       "1              normalizer__mean texture    0.012071\n",
       "14         normalizer__smoothness error    0.010123\n",
       "17     normalizer__concave points error    0.009557\n",
       "16          normalizer__concavity error    0.008459\n",
       "5          normalizer__mean compactness    0.006687\n",
       "11            normalizer__texture error    0.006649\n",
       "13               normalizer__area error    0.006209\n",
       "12          normalizer__perimeter error    0.006185\n",
       "15        normalizer__compactness error    0.006022\n",
       "19  normalizer__fractal dimension error    0.005217\n",
       "10             normalizer__radius error    0.004235"
      ]
     },
     "execution_count": 120,
     "metadata": {},
     "output_type": "execute_result"
    }
   ],
   "source": [
    "(\n",
    "    pd.DataFrame(zip(feature_names, model.feature_importances_), columns=['feature', 'importance'])\n",
    "    .sort_values('importance', ascending=False)\n",
    ")"
   ]
  },
  {
   "cell_type": "code",
   "execution_count": null,
   "id": "77e570f9-6560-462d-a20c-924472c05dec",
   "metadata": {},
   "outputs": [],
   "source": []
  },
  {
   "cell_type": "code",
   "execution_count": 121,
   "id": "a5eafa22-07e3-4944-a8c6-789d88422109",
   "metadata": {},
   "outputs": [],
   "source": [
    "transformer = lsvc_pl[0]\n",
    "model = lsvc_pl[-1]\n",
    "feature_names = transformer.get_feature_names_out()\n",
    "model_params = model.get_params()"
   ]
  },
  {
   "cell_type": "code",
   "execution_count": 122,
   "id": "346b8f0f-bc37-4252-847b-719442d5cd24",
   "metadata": {},
   "outputs": [
    {
     "data": {
      "text/plain": [
       "array([-0.0198768])"
      ]
     },
     "execution_count": 122,
     "metadata": {},
     "output_type": "execute_result"
    }
   ],
   "source": [
    "model.intercept_"
   ]
  },
  {
   "cell_type": "code",
   "execution_count": 124,
   "id": "ee4f5f9d-3d8a-4f23-b52f-c1aa058dd7c2",
   "metadata": {},
   "outputs": [
    {
     "data": {
      "text/html": [
       "<div>\n",
       "<style scoped>\n",
       "    .dataframe tbody tr th:only-of-type {\n",
       "        vertical-align: middle;\n",
       "    }\n",
       "\n",
       "    .dataframe tbody tr th {\n",
       "        vertical-align: top;\n",
       "    }\n",
       "\n",
       "    .dataframe thead th {\n",
       "        text-align: right;\n",
       "    }\n",
       "</style>\n",
       "<table border=\"1\" class=\"dataframe\">\n",
       "  <thead>\n",
       "    <tr style=\"text-align: right;\">\n",
       "      <th></th>\n",
       "      <th>feature</th>\n",
       "      <th>importance</th>\n",
       "    </tr>\n",
       "  </thead>\n",
       "  <tbody>\n",
       "    <tr>\n",
       "      <th>2</th>\n",
       "      <td>normalizer__mean perimeter</td>\n",
       "      <td>5.207121</td>\n",
       "    </tr>\n",
       "    <tr>\n",
       "      <th>22</th>\n",
       "      <td>normalizer__worst perimeter</td>\n",
       "      <td>5.078631</td>\n",
       "    </tr>\n",
       "    <tr>\n",
       "      <th>3</th>\n",
       "      <td>normalizer__mean area</td>\n",
       "      <td>4.526971</td>\n",
       "    </tr>\n",
       "    <tr>\n",
       "      <th>21</th>\n",
       "      <td>normalizer__worst texture</td>\n",
       "      <td>1.753862</td>\n",
       "    </tr>\n",
       "    <tr>\n",
       "      <th>1</th>\n",
       "      <td>normalizer__mean texture</td>\n",
       "      <td>1.409454</td>\n",
       "    </tr>\n",
       "    <tr>\n",
       "      <th>20</th>\n",
       "      <td>normalizer__worst radius</td>\n",
       "      <td>0.883273</td>\n",
       "    </tr>\n",
       "    <tr>\n",
       "      <th>0</th>\n",
       "      <td>normalizer__mean radius</td>\n",
       "      <td>0.881847</td>\n",
       "    </tr>\n",
       "    <tr>\n",
       "      <th>11</th>\n",
       "      <td>normalizer__texture error</td>\n",
       "      <td>0.113241</td>\n",
       "    </tr>\n",
       "    <tr>\n",
       "      <th>12</th>\n",
       "      <td>normalizer__perimeter error</td>\n",
       "      <td>0.030889</td>\n",
       "    </tr>\n",
       "    <tr>\n",
       "      <th>28</th>\n",
       "      <td>normalizer__worst symmetry</td>\n",
       "      <td>0.020602</td>\n",
       "    </tr>\n",
       "    <tr>\n",
       "      <th>8</th>\n",
       "      <td>normalizer__mean symmetry</td>\n",
       "      <td>0.015804</td>\n",
       "    </tr>\n",
       "    <tr>\n",
       "      <th>24</th>\n",
       "      <td>normalizer__worst smoothness</td>\n",
       "      <td>0.010542</td>\n",
       "    </tr>\n",
       "    <tr>\n",
       "      <th>4</th>\n",
       "      <td>normalizer__mean smoothness</td>\n",
       "      <td>0.008346</td>\n",
       "    </tr>\n",
       "    <tr>\n",
       "      <th>10</th>\n",
       "      <td>normalizer__radius error</td>\n",
       "      <td>0.008308</td>\n",
       "    </tr>\n",
       "    <tr>\n",
       "      <th>9</th>\n",
       "      <td>normalizer__mean fractal dimension</td>\n",
       "      <td>0.006595</td>\n",
       "    </tr>\n",
       "    <tr>\n",
       "      <th>29</th>\n",
       "      <td>normalizer__worst fractal dimension</td>\n",
       "      <td>0.006289</td>\n",
       "    </tr>\n",
       "    <tr>\n",
       "      <th>18</th>\n",
       "      <td>normalizer__symmetry error</td>\n",
       "      <td>0.001750</td>\n",
       "    </tr>\n",
       "    <tr>\n",
       "      <th>14</th>\n",
       "      <td>normalizer__smoothness error</td>\n",
       "      <td>0.000657</td>\n",
       "    </tr>\n",
       "    <tr>\n",
       "      <th>19</th>\n",
       "      <td>normalizer__fractal dimension error</td>\n",
       "      <td>0.000257</td>\n",
       "    </tr>\n",
       "    <tr>\n",
       "      <th>17</th>\n",
       "      <td>normalizer__concave points error</td>\n",
       "      <td>0.000108</td>\n",
       "    </tr>\n",
       "    <tr>\n",
       "      <th>16</th>\n",
       "      <td>normalizer__concavity error</td>\n",
       "      <td>-0.000017</td>\n",
       "    </tr>\n",
       "    <tr>\n",
       "      <th>15</th>\n",
       "      <td>normalizer__compactness error</td>\n",
       "      <td>-0.000036</td>\n",
       "    </tr>\n",
       "    <tr>\n",
       "      <th>5</th>\n",
       "      <td>normalizer__mean compactness</td>\n",
       "      <td>-0.002279</td>\n",
       "    </tr>\n",
       "    <tr>\n",
       "      <th>7</th>\n",
       "      <td>normalizer__mean concave points</td>\n",
       "      <td>-0.005746</td>\n",
       "    </tr>\n",
       "    <tr>\n",
       "      <th>27</th>\n",
       "      <td>normalizer__worst concave points</td>\n",
       "      <td>-0.006925</td>\n",
       "    </tr>\n",
       "    <tr>\n",
       "      <th>6</th>\n",
       "      <td>normalizer__mean concavity</td>\n",
       "      <td>-0.012309</td>\n",
       "    </tr>\n",
       "    <tr>\n",
       "      <th>25</th>\n",
       "      <td>normalizer__worst compactness</td>\n",
       "      <td>-0.013572</td>\n",
       "    </tr>\n",
       "    <tr>\n",
       "      <th>26</th>\n",
       "      <td>normalizer__worst concavity</td>\n",
       "      <td>-0.027193</td>\n",
       "    </tr>\n",
       "    <tr>\n",
       "      <th>13</th>\n",
       "      <td>normalizer__area error</td>\n",
       "      <td>-1.454567</td>\n",
       "    </tr>\n",
       "    <tr>\n",
       "      <th>23</th>\n",
       "      <td>normalizer__worst area</td>\n",
       "      <td>-4.617704</td>\n",
       "    </tr>\n",
       "  </tbody>\n",
       "</table>\n",
       "</div>"
      ],
      "text/plain": [
       "                                feature  importance\n",
       "2            normalizer__mean perimeter    5.207121\n",
       "22          normalizer__worst perimeter    5.078631\n",
       "3                 normalizer__mean area    4.526971\n",
       "21            normalizer__worst texture    1.753862\n",
       "1              normalizer__mean texture    1.409454\n",
       "20             normalizer__worst radius    0.883273\n",
       "0               normalizer__mean radius    0.881847\n",
       "11            normalizer__texture error    0.113241\n",
       "12          normalizer__perimeter error    0.030889\n",
       "28           normalizer__worst symmetry    0.020602\n",
       "8             normalizer__mean symmetry    0.015804\n",
       "24         normalizer__worst smoothness    0.010542\n",
       "4           normalizer__mean smoothness    0.008346\n",
       "10             normalizer__radius error    0.008308\n",
       "9    normalizer__mean fractal dimension    0.006595\n",
       "29  normalizer__worst fractal dimension    0.006289\n",
       "18           normalizer__symmetry error    0.001750\n",
       "14         normalizer__smoothness error    0.000657\n",
       "19  normalizer__fractal dimension error    0.000257\n",
       "17     normalizer__concave points error    0.000108\n",
       "16          normalizer__concavity error   -0.000017\n",
       "15        normalizer__compactness error   -0.000036\n",
       "5          normalizer__mean compactness   -0.002279\n",
       "7       normalizer__mean concave points   -0.005746\n",
       "27     normalizer__worst concave points   -0.006925\n",
       "6            normalizer__mean concavity   -0.012309\n",
       "25        normalizer__worst compactness   -0.013572\n",
       "26          normalizer__worst concavity   -0.027193\n",
       "13               normalizer__area error   -1.454567\n",
       "23               normalizer__worst area   -4.617704"
      ]
     },
     "execution_count": 124,
     "metadata": {},
     "output_type": "execute_result"
    }
   ],
   "source": [
    "(\n",
    "    pd.DataFrame(zip(feature_names, model.coef_[0]), columns=['feature', 'importance'])\n",
    "    .sort_values('importance', ascending=False)\n",
    ")"
   ]
  },
  {
   "cell_type": "markdown",
   "id": "3becd7bb-e46e-48a3-939f-93eac8a218a7",
   "metadata": {},
   "source": [
    "#### Randomized Search"
   ]
  },
  {
   "cell_type": "code",
   "execution_count": 125,
   "id": "01117d85-ef56-4378-8828-ce222b67e3d0",
   "metadata": {},
   "outputs": [
    {
     "data": {
      "text/html": [
       "<style>#sk-container-id-15 {color: black;background-color: white;}#sk-container-id-15 pre{padding: 0;}#sk-container-id-15 div.sk-toggleable {background-color: white;}#sk-container-id-15 label.sk-toggleable__label {cursor: pointer;display: block;width: 100%;margin-bottom: 0;padding: 0.3em;box-sizing: border-box;text-align: center;}#sk-container-id-15 label.sk-toggleable__label-arrow:before {content: \"▸\";float: left;margin-right: 0.25em;color: #696969;}#sk-container-id-15 label.sk-toggleable__label-arrow:hover:before {color: black;}#sk-container-id-15 div.sk-estimator:hover label.sk-toggleable__label-arrow:before {color: black;}#sk-container-id-15 div.sk-toggleable__content {max-height: 0;max-width: 0;overflow: hidden;text-align: left;background-color: #f0f8ff;}#sk-container-id-15 div.sk-toggleable__content pre {margin: 0.2em;color: black;border-radius: 0.25em;background-color: #f0f8ff;}#sk-container-id-15 input.sk-toggleable__control:checked~div.sk-toggleable__content {max-height: 200px;max-width: 100%;overflow: auto;}#sk-container-id-15 input.sk-toggleable__control:checked~label.sk-toggleable__label-arrow:before {content: \"▾\";}#sk-container-id-15 div.sk-estimator input.sk-toggleable__control:checked~label.sk-toggleable__label {background-color: #d4ebff;}#sk-container-id-15 div.sk-label input.sk-toggleable__control:checked~label.sk-toggleable__label {background-color: #d4ebff;}#sk-container-id-15 input.sk-hidden--visually {border: 0;clip: rect(1px 1px 1px 1px);clip: rect(1px, 1px, 1px, 1px);height: 1px;margin: -1px;overflow: hidden;padding: 0;position: absolute;width: 1px;}#sk-container-id-15 div.sk-estimator {font-family: monospace;background-color: #f0f8ff;border: 1px dotted black;border-radius: 0.25em;box-sizing: border-box;margin-bottom: 0.5em;}#sk-container-id-15 div.sk-estimator:hover {background-color: #d4ebff;}#sk-container-id-15 div.sk-parallel-item::after {content: \"\";width: 100%;border-bottom: 1px solid gray;flex-grow: 1;}#sk-container-id-15 div.sk-label:hover label.sk-toggleable__label {background-color: #d4ebff;}#sk-container-id-15 div.sk-serial::before {content: \"\";position: absolute;border-left: 1px solid gray;box-sizing: border-box;top: 0;bottom: 0;left: 50%;z-index: 0;}#sk-container-id-15 div.sk-serial {display: flex;flex-direction: column;align-items: center;background-color: white;padding-right: 0.2em;padding-left: 0.2em;position: relative;}#sk-container-id-15 div.sk-item {position: relative;z-index: 1;}#sk-container-id-15 div.sk-parallel {display: flex;align-items: stretch;justify-content: center;background-color: white;position: relative;}#sk-container-id-15 div.sk-item::before, #sk-container-id-15 div.sk-parallel-item::before {content: \"\";position: absolute;border-left: 1px solid gray;box-sizing: border-box;top: 0;bottom: 0;left: 50%;z-index: -1;}#sk-container-id-15 div.sk-parallel-item {display: flex;flex-direction: column;z-index: 1;position: relative;background-color: white;}#sk-container-id-15 div.sk-parallel-item:first-child::after {align-self: flex-end;width: 50%;}#sk-container-id-15 div.sk-parallel-item:last-child::after {align-self: flex-start;width: 50%;}#sk-container-id-15 div.sk-parallel-item:only-child::after {width: 0;}#sk-container-id-15 div.sk-dashed-wrapped {border: 1px dashed gray;margin: 0 0.4em 0.5em 0.4em;box-sizing: border-box;padding-bottom: 0.4em;background-color: white;}#sk-container-id-15 div.sk-label label {font-family: monospace;font-weight: bold;display: inline-block;line-height: 1.2em;}#sk-container-id-15 div.sk-label-container {text-align: center;}#sk-container-id-15 div.sk-container {/* jupyter's `normalize.less` sets `[hidden] { display: none; }` but bootstrap.min.css set `[hidden] { display: none !important; }` so we also need the `!important` here to be able to override the default hidden behavior on the sphinx rendered scikit-learn.org. See: https://github.com/scikit-learn/scikit-learn/issues/21755 */display: inline-block !important;position: relative;}#sk-container-id-15 div.sk-text-repr-fallback {display: none;}</style><div id=\"sk-container-id-15\" class=\"sk-top-container\"><div class=\"sk-text-repr-fallback\"><pre>RandomizedSearchCV(cv=StratifiedKFold(n_splits=5, random_state=None, shuffle=False),\n",
       "                   estimator=SVC(), n_iter=20,\n",
       "                   param_distributions={&#x27;C&#x27;: &lt;scipy.stats._distn_infrastructure.rv_continuous_frozen object at 0x7fd68e3f0580&gt;,\n",
       "                                        &#x27;degree&#x27;: &lt;scipy.stats._distn_infrastructure.rv_discrete_frozen object at 0x7fd68f306380&gt;,\n",
       "                                        &#x27;gamma&#x27;: &lt;scipy.stats._distn_infrastructure.rv_continuous_frozen object at 0x7fd68f237700&gt;,\n",
       "                                        &#x27;kernel&#x27;: [&#x27;linear&#x27;, &#x27;rbf&#x27;, &#x27;poly&#x27;]})</pre><b>In a Jupyter environment, please rerun this cell to show the HTML representation or trust the notebook. <br />On GitHub, the HTML representation is unable to render, please try loading this page with nbviewer.org.</b></div><div class=\"sk-container\" hidden><div class=\"sk-item sk-dashed-wrapped\"><div class=\"sk-label-container\"><div class=\"sk-label sk-toggleable\"><input class=\"sk-toggleable__control sk-hidden--visually\" id=\"sk-estimator-id-41\" type=\"checkbox\" ><label for=\"sk-estimator-id-41\" class=\"sk-toggleable__label sk-toggleable__label-arrow\">RandomizedSearchCV</label><div class=\"sk-toggleable__content\"><pre>RandomizedSearchCV(cv=StratifiedKFold(n_splits=5, random_state=None, shuffle=False),\n",
       "                   estimator=SVC(), n_iter=20,\n",
       "                   param_distributions={&#x27;C&#x27;: &lt;scipy.stats._distn_infrastructure.rv_continuous_frozen object at 0x7fd68e3f0580&gt;,\n",
       "                                        &#x27;degree&#x27;: &lt;scipy.stats._distn_infrastructure.rv_discrete_frozen object at 0x7fd68f306380&gt;,\n",
       "                                        &#x27;gamma&#x27;: &lt;scipy.stats._distn_infrastructure.rv_continuous_frozen object at 0x7fd68f237700&gt;,\n",
       "                                        &#x27;kernel&#x27;: [&#x27;linear&#x27;, &#x27;rbf&#x27;, &#x27;poly&#x27;]})</pre></div></div></div><div class=\"sk-parallel\"><div class=\"sk-parallel-item\"><div class=\"sk-item\"><div class=\"sk-label-container\"><div class=\"sk-label sk-toggleable\"><input class=\"sk-toggleable__control sk-hidden--visually\" id=\"sk-estimator-id-42\" type=\"checkbox\" ><label for=\"sk-estimator-id-42\" class=\"sk-toggleable__label sk-toggleable__label-arrow\">estimator: SVC</label><div class=\"sk-toggleable__content\"><pre>SVC()</pre></div></div></div><div class=\"sk-serial\"><div class=\"sk-item\"><div class=\"sk-estimator sk-toggleable\"><input class=\"sk-toggleable__control sk-hidden--visually\" id=\"sk-estimator-id-43\" type=\"checkbox\" ><label for=\"sk-estimator-id-43\" class=\"sk-toggleable__label sk-toggleable__label-arrow\">SVC</label><div class=\"sk-toggleable__content\"><pre>SVC()</pre></div></div></div></div></div></div></div></div></div></div>"
      ],
      "text/plain": [
       "RandomizedSearchCV(cv=StratifiedKFold(n_splits=5, random_state=None, shuffle=False),\n",
       "                   estimator=SVC(), n_iter=20,\n",
       "                   param_distributions={'C': <scipy.stats._distn_infrastructure.rv_continuous_frozen object at 0x7fd68e3f0580>,\n",
       "                                        'degree': <scipy.stats._distn_infrastructure.rv_discrete_frozen object at 0x7fd68f306380>,\n",
       "                                        'gamma': <scipy.stats._distn_infrastructure.rv_continuous_frozen object at 0x7fd68f237700>,\n",
       "                                        'kernel': ['linear', 'rbf', 'poly']})"
      ]
     },
     "execution_count": 125,
     "metadata": {},
     "output_type": "execute_result"
    }
   ],
   "source": [
    "normalizer = Normalizer()\n",
    "X_train_tr = normalizer.fit_transform(X_train)\n",
    "X_test_tr = normalizer.transform(X_test)\n",
    "\n",
    "kfold = StratifiedKFold(n_splits=5)\n",
    "\n",
    "param_grid = {\n",
    "    'C': uniform(0.1, 10),\n",
    "    'kernel': ['linear', 'rbf', 'poly'],\n",
    "    'gamma': uniform(0.1, 1),\n",
    "    'degree': randint(1, 5)\n",
    "}\n",
    "\n",
    "clf = SVC()\n",
    "random_search = RandomizedSearchCV(clf, cv=kfold, param_distributions=param_grid, n_iter=20)\n",
    "random_search.fit(X_train_tr, y_train_tr)"
   ]
  },
  {
   "cell_type": "code",
   "execution_count": 130,
   "id": "b0a6f526-6b1b-41ca-b153-349721f9ad9b",
   "metadata": {},
   "outputs": [
    {
     "name": "stdout",
     "output_type": "stream",
     "text": [
      "Best Hyperparameters:  {'C': 5.355315840550353, 'degree': 4, 'gamma': 1.0912781894406567, 'kernel': 'poly'}\n",
      "Best Score:  0.9120879120879121\n",
      "Test score:  0.9473684210526315\n"
     ]
    }
   ],
   "source": [
    "print(\"Best Hyperparameters: \", random_search.best_params_)\n",
    "print(\"Best Score: \", random_search.best_score_)\n",
    "print('Test score: ', random_search.score(X_test_tr, y_test_tr))"
   ]
  },
  {
   "cell_type": "code",
   "execution_count": null,
   "id": "eb2b405a-1c21-4c7a-bea1-d95849a9246c",
   "metadata": {},
   "outputs": [],
   "source": []
  },
  {
   "cell_type": "markdown",
   "id": "99a60b7b-d279-4a53-8bcb-7f0c119065a1",
   "metadata": {},
   "source": [
    "### E2E ML Pipeline"
   ]
  },
  {
   "cell_type": "code",
   "execution_count": 154,
   "id": "fe878530-4be4-4272-b098-a543c9992a0c",
   "metadata": {},
   "outputs": [
    {
     "data": {
      "text/plain": [
       "['pipeline.joblib']"
      ]
     },
     "execution_count": 154,
     "metadata": {},
     "output_type": "execute_result"
    }
   ],
   "source": [
    "cancer = load_breast_cancer()\n",
    "X = pd.DataFrame(cancer.data, columns=cancer.feature_names)\n",
    "y = cancer.target\n",
    "X_train, X_test, y_train, y_test = train_test_split(X, y, test_size=0.2, random_state=42)\n",
    "\n",
    "le = LabelEncoder()\n",
    "y_train_tr = le.fit_transform(y_train)\n",
    "y_test_tr = le.transform(y_test)\n",
    "\n",
    "model_params = dict(\n",
    "    C=5.355315840550353,\n",
    "    degree=4,\n",
    "    gamma=1.0912781894406567,\n",
    "    kernel='poly'\n",
    ")\n",
    "transformer = make_union(Normalizer())\n",
    "pl = make_pipeline(transformer, SVC(**model_params))\n",
    "pl.fit(X_train, y_train)\n",
    "\n",
    "joblib.dump(le, 'label_encoder.joblib')\n",
    "joblib.dump(pl, 'pipeline.joblib')\n",
    "\n"
   ]
  },
  {
   "cell_type": "code",
   "execution_count": null,
   "id": "cce618a5-be41-4cbf-a3da-78b9577f334d",
   "metadata": {},
   "outputs": [],
   "source": []
  },
  {
   "cell_type": "markdown",
   "id": "d992c816-755f-4f5b-aa22-41437d81ee19",
   "metadata": {},
   "source": [
    "### Model Inference and Evaluation"
   ]
  },
  {
   "cell_type": "code",
   "execution_count": 166,
   "id": "922369ae-ba08-46d4-bda0-e082b43b9768",
   "metadata": {},
   "outputs": [],
   "source": [
    "cancer = load_breast_cancer()\n",
    "X = pd.DataFrame(cancer.data, columns=cancer.feature_names)\n",
    "y = cancer.target\n",
    "X_train, X_test, y_train, y_test = train_test_split(X, y, test_size=0.2, random_state=42)\n",
    "\n",
    "le = joblib.load('label_encoder.joblib')\n",
    "pl = joblib.load('pipeline.joblib')\n",
    "\n",
    "y_test_tr = le.transform(y_test)\n",
    "y_test_pred = pl.predict(X_test)"
   ]
  },
  {
   "cell_type": "code",
   "execution_count": 167,
   "id": "e0d9a300-f647-4a96-92e0-8ce1644a1d78",
   "metadata": {},
   "outputs": [
    {
     "name": "stdout",
     "output_type": "stream",
     "text": [
      "              precision    recall  f1-score   support\n",
      "\n",
      "           0       0.97      0.88      0.93        43\n",
      "           1       0.93      0.99      0.96        71\n",
      "\n",
      "    accuracy                           0.95       114\n",
      "   macro avg       0.95      0.93      0.94       114\n",
      "weighted avg       0.95      0.95      0.95       114\n",
      "\n"
     ]
    }
   ],
   "source": [
    "print(classification_report(y_test_tr, y_test_hat))"
   ]
  },
  {
   "cell_type": "code",
   "execution_count": 171,
   "id": "b07a4ca8-ac61-4cd1-acee-c34a92f92519",
   "metadata": {},
   "outputs": [
    {
     "name": "stdout",
     "output_type": "stream",
     "text": [
      "Accuracy Score:  0.9473684210526315\n",
      "Precision Score:  0.9333333333333333\n",
      "Recall Score:  0.9859154929577465\n",
      "F1 Score:  0.9589041095890412\n"
     ]
    }
   ],
   "source": [
    "print('Accuracy Score: ', accuracy_score(y_test_tr, y_test_pred))\n",
    "print('Precision Score: ', precision_score(y_test_tr, y_test_pred))\n",
    "print('Recall Score: ', recall_score(y_test_tr, y_test_pred))\n",
    "print('F1 Score: ', f1_score(y_test_tr, y_test_pred))"
   ]
  },
  {
   "cell_type": "code",
   "execution_count": 174,
   "id": "6b79696e-dc99-4091-97e7-45dc06cecff3",
   "metadata": {},
   "outputs": [
    {
     "name": "stdout",
     "output_type": "stream",
     "text": [
      "[[38  5]\n",
      " [ 1 70]]\n"
     ]
    }
   ],
   "source": [
    "print(confusion_matrix(y_test_tr, y_test_pred))"
   ]
  },
  {
   "cell_type": "code",
   "execution_count": null,
   "id": "4746cb88-4ba0-46f3-981a-f945456677bd",
   "metadata": {},
   "outputs": [],
   "source": []
  }
 ],
 "metadata": {
  "kernelspec": {
   "display_name": "Python 3 (ipykernel)",
   "language": "python",
   "name": "python3"
  },
  "language_info": {
   "codemirror_mode": {
    "name": "ipython",
    "version": 3
   },
   "file_extension": ".py",
   "mimetype": "text/x-python",
   "name": "python",
   "nbconvert_exporter": "python",
   "pygments_lexer": "ipython3",
   "version": "3.10.9"
  }
 },
 "nbformat": 4,
 "nbformat_minor": 5
}
